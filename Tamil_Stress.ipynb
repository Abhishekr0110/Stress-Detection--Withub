{
  "nbformat": 4,
  "nbformat_minor": 0,
  "metadata": {
    "colab": {
      "provenance": []
    },
    "kernelspec": {
      "name": "python3",
      "display_name": "Python 3"
    },
    "language_info": {
      "name": "python"
    }
  },
  "cells": [
    {
      "cell_type": "code",
      "execution_count": null,
      "metadata": {
        "colab": {
          "base_uri": "https://localhost:8080/"
        },
        "id": "Gn4T16qxurpi",
        "outputId": "51b91265-8f64-414a-bf4c-361d4ff06da5"
      },
      "outputs": [
        {
          "output_type": "stream",
          "name": "stdout",
          "text": [
            "Drive already mounted at /content/drive; to attempt to forcibly remount, call drive.mount(\"/content/drive\", force_remount=True).\n"
          ]
        }
      ],
      "source": [
        "from google.colab import drive\n",
        "drive.mount('/content/drive')"
      ]
    },
    {
      "cell_type": "code",
      "source": [
        "import pandas as pd\n",
        "train_tamil = pd.read_csv('/content/drive/MyDrive/Colab Notebooks/TAMIL_TRAINING_DATA.csv')\n",
        "train_tamil.head()"
      ],
      "metadata": {
        "colab": {
          "base_uri": "https://localhost:8080/",
          "height": 206
        },
        "id": "mlIn4rUNvCue",
        "outputId": "59f69077-3980-411e-d8d7-9aca4e5fa380"
      },
      "execution_count": null,
      "outputs": [
        {
          "output_type": "execute_result",
          "data": {
            "text/plain": [
              "                                           TEXT DATA        LABELS\n",
              "0                                          Appa nice  Non stressed\n",
              "1  முததுன மூஞ்சி வரவு மட்டும் சொல்றியே செலவு கணகக...  Non stressed\n",
              "2                    இல்ல பா கஜானா தான் ரொம்ப பெருசு  Non stressed\n",
              "3  என்னன்ன சொல்றான் பாருங்க.... கம்பி கட்ற கதையெல...  Non stressed\n",
              "4  முழு கதைக்கு அந்த கதைநாயகிதான் தேவை. இந்த காட்...  Non stressed"
            ],
            "text/html": [
              "\n",
              "  <div id=\"df-470f4140-85ab-4637-ad9c-a0a3ba9740d0\" class=\"colab-df-container\">\n",
              "    <div>\n",
              "<style scoped>\n",
              "    .dataframe tbody tr th:only-of-type {\n",
              "        vertical-align: middle;\n",
              "    }\n",
              "\n",
              "    .dataframe tbody tr th {\n",
              "        vertical-align: top;\n",
              "    }\n",
              "\n",
              "    .dataframe thead th {\n",
              "        text-align: right;\n",
              "    }\n",
              "</style>\n",
              "<table border=\"1\" class=\"dataframe\">\n",
              "  <thead>\n",
              "    <tr style=\"text-align: right;\">\n",
              "      <th></th>\n",
              "      <th>TEXT DATA</th>\n",
              "      <th>LABELS</th>\n",
              "    </tr>\n",
              "  </thead>\n",
              "  <tbody>\n",
              "    <tr>\n",
              "      <th>0</th>\n",
              "      <td>Appa nice</td>\n",
              "      <td>Non stressed</td>\n",
              "    </tr>\n",
              "    <tr>\n",
              "      <th>1</th>\n",
              "      <td>முததுன மூஞ்சி வரவு மட்டும் சொல்றியே செலவு கணகக...</td>\n",
              "      <td>Non stressed</td>\n",
              "    </tr>\n",
              "    <tr>\n",
              "      <th>2</th>\n",
              "      <td>இல்ல பா கஜானா தான் ரொம்ப பெருசு</td>\n",
              "      <td>Non stressed</td>\n",
              "    </tr>\n",
              "    <tr>\n",
              "      <th>3</th>\n",
              "      <td>என்னன்ன சொல்றான் பாருங்க.... கம்பி கட்ற கதையெல...</td>\n",
              "      <td>Non stressed</td>\n",
              "    </tr>\n",
              "    <tr>\n",
              "      <th>4</th>\n",
              "      <td>முழு கதைக்கு அந்த கதைநாயகிதான் தேவை. இந்த காட்...</td>\n",
              "      <td>Non stressed</td>\n",
              "    </tr>\n",
              "  </tbody>\n",
              "</table>\n",
              "</div>\n",
              "    <div class=\"colab-df-buttons\">\n",
              "\n",
              "  <div class=\"colab-df-container\">\n",
              "    <button class=\"colab-df-convert\" onclick=\"convertToInteractive('df-470f4140-85ab-4637-ad9c-a0a3ba9740d0')\"\n",
              "            title=\"Convert this dataframe to an interactive table.\"\n",
              "            style=\"display:none;\">\n",
              "\n",
              "  <svg xmlns=\"http://www.w3.org/2000/svg\" height=\"24px\" viewBox=\"0 -960 960 960\">\n",
              "    <path d=\"M120-120v-720h720v720H120Zm60-500h600v-160H180v160Zm220 220h160v-160H400v160Zm0 220h160v-160H400v160ZM180-400h160v-160H180v160Zm440 0h160v-160H620v160ZM180-180h160v-160H180v160Zm440 0h160v-160H620v160Z\"/>\n",
              "  </svg>\n",
              "    </button>\n",
              "\n",
              "  <style>\n",
              "    .colab-df-container {\n",
              "      display:flex;\n",
              "      gap: 12px;\n",
              "    }\n",
              "\n",
              "    .colab-df-convert {\n",
              "      background-color: #E8F0FE;\n",
              "      border: none;\n",
              "      border-radius: 50%;\n",
              "      cursor: pointer;\n",
              "      display: none;\n",
              "      fill: #1967D2;\n",
              "      height: 32px;\n",
              "      padding: 0 0 0 0;\n",
              "      width: 32px;\n",
              "    }\n",
              "\n",
              "    .colab-df-convert:hover {\n",
              "      background-color: #E2EBFA;\n",
              "      box-shadow: 0px 1px 2px rgba(60, 64, 67, 0.3), 0px 1px 3px 1px rgba(60, 64, 67, 0.15);\n",
              "      fill: #174EA6;\n",
              "    }\n",
              "\n",
              "    .colab-df-buttons div {\n",
              "      margin-bottom: 4px;\n",
              "    }\n",
              "\n",
              "    [theme=dark] .colab-df-convert {\n",
              "      background-color: #3B4455;\n",
              "      fill: #D2E3FC;\n",
              "    }\n",
              "\n",
              "    [theme=dark] .colab-df-convert:hover {\n",
              "      background-color: #434B5C;\n",
              "      box-shadow: 0px 1px 3px 1px rgba(0, 0, 0, 0.15);\n",
              "      filter: drop-shadow(0px 1px 2px rgba(0, 0, 0, 0.3));\n",
              "      fill: #FFFFFF;\n",
              "    }\n",
              "  </style>\n",
              "\n",
              "    <script>\n",
              "      const buttonEl =\n",
              "        document.querySelector('#df-470f4140-85ab-4637-ad9c-a0a3ba9740d0 button.colab-df-convert');\n",
              "      buttonEl.style.display =\n",
              "        google.colab.kernel.accessAllowed ? 'block' : 'none';\n",
              "\n",
              "      async function convertToInteractive(key) {\n",
              "        const element = document.querySelector('#df-470f4140-85ab-4637-ad9c-a0a3ba9740d0');\n",
              "        const dataTable =\n",
              "          await google.colab.kernel.invokeFunction('convertToInteractive',\n",
              "                                                    [key], {});\n",
              "        if (!dataTable) return;\n",
              "\n",
              "        const docLinkHtml = 'Like what you see? Visit the ' +\n",
              "          '<a target=\"_blank\" href=https://colab.research.google.com/notebooks/data_table.ipynb>data table notebook</a>'\n",
              "          + ' to learn more about interactive tables.';\n",
              "        element.innerHTML = '';\n",
              "        dataTable['output_type'] = 'display_data';\n",
              "        await google.colab.output.renderOutput(dataTable, element);\n",
              "        const docLink = document.createElement('div');\n",
              "        docLink.innerHTML = docLinkHtml;\n",
              "        element.appendChild(docLink);\n",
              "      }\n",
              "    </script>\n",
              "  </div>\n",
              "\n",
              "\n",
              "<div id=\"df-8600089f-4caf-4b68-be6e-44da0a02af8c\">\n",
              "  <button class=\"colab-df-quickchart\" onclick=\"quickchart('df-8600089f-4caf-4b68-be6e-44da0a02af8c')\"\n",
              "            title=\"Suggest charts\"\n",
              "            style=\"display:none;\">\n",
              "\n",
              "<svg xmlns=\"http://www.w3.org/2000/svg\" height=\"24px\"viewBox=\"0 0 24 24\"\n",
              "     width=\"24px\">\n",
              "    <g>\n",
              "        <path d=\"M19 3H5c-1.1 0-2 .9-2 2v14c0 1.1.9 2 2 2h14c1.1 0 2-.9 2-2V5c0-1.1-.9-2-2-2zM9 17H7v-7h2v7zm4 0h-2V7h2v10zm4 0h-2v-4h2v4z\"/>\n",
              "    </g>\n",
              "</svg>\n",
              "  </button>\n",
              "\n",
              "<style>\n",
              "  .colab-df-quickchart {\n",
              "      --bg-color: #E8F0FE;\n",
              "      --fill-color: #1967D2;\n",
              "      --hover-bg-color: #E2EBFA;\n",
              "      --hover-fill-color: #174EA6;\n",
              "      --disabled-fill-color: #AAA;\n",
              "      --disabled-bg-color: #DDD;\n",
              "  }\n",
              "\n",
              "  [theme=dark] .colab-df-quickchart {\n",
              "      --bg-color: #3B4455;\n",
              "      --fill-color: #D2E3FC;\n",
              "      --hover-bg-color: #434B5C;\n",
              "      --hover-fill-color: #FFFFFF;\n",
              "      --disabled-bg-color: #3B4455;\n",
              "      --disabled-fill-color: #666;\n",
              "  }\n",
              "\n",
              "  .colab-df-quickchart {\n",
              "    background-color: var(--bg-color);\n",
              "    border: none;\n",
              "    border-radius: 50%;\n",
              "    cursor: pointer;\n",
              "    display: none;\n",
              "    fill: var(--fill-color);\n",
              "    height: 32px;\n",
              "    padding: 0;\n",
              "    width: 32px;\n",
              "  }\n",
              "\n",
              "  .colab-df-quickchart:hover {\n",
              "    background-color: var(--hover-bg-color);\n",
              "    box-shadow: 0 1px 2px rgba(60, 64, 67, 0.3), 0 1px 3px 1px rgba(60, 64, 67, 0.15);\n",
              "    fill: var(--button-hover-fill-color);\n",
              "  }\n",
              "\n",
              "  .colab-df-quickchart-complete:disabled,\n",
              "  .colab-df-quickchart-complete:disabled:hover {\n",
              "    background-color: var(--disabled-bg-color);\n",
              "    fill: var(--disabled-fill-color);\n",
              "    box-shadow: none;\n",
              "  }\n",
              "\n",
              "  .colab-df-spinner {\n",
              "    border: 2px solid var(--fill-color);\n",
              "    border-color: transparent;\n",
              "    border-bottom-color: var(--fill-color);\n",
              "    animation:\n",
              "      spin 1s steps(1) infinite;\n",
              "  }\n",
              "\n",
              "  @keyframes spin {\n",
              "    0% {\n",
              "      border-color: transparent;\n",
              "      border-bottom-color: var(--fill-color);\n",
              "      border-left-color: var(--fill-color);\n",
              "    }\n",
              "    20% {\n",
              "      border-color: transparent;\n",
              "      border-left-color: var(--fill-color);\n",
              "      border-top-color: var(--fill-color);\n",
              "    }\n",
              "    30% {\n",
              "      border-color: transparent;\n",
              "      border-left-color: var(--fill-color);\n",
              "      border-top-color: var(--fill-color);\n",
              "      border-right-color: var(--fill-color);\n",
              "    }\n",
              "    40% {\n",
              "      border-color: transparent;\n",
              "      border-right-color: var(--fill-color);\n",
              "      border-top-color: var(--fill-color);\n",
              "    }\n",
              "    60% {\n",
              "      border-color: transparent;\n",
              "      border-right-color: var(--fill-color);\n",
              "    }\n",
              "    80% {\n",
              "      border-color: transparent;\n",
              "      border-right-color: var(--fill-color);\n",
              "      border-bottom-color: var(--fill-color);\n",
              "    }\n",
              "    90% {\n",
              "      border-color: transparent;\n",
              "      border-bottom-color: var(--fill-color);\n",
              "    }\n",
              "  }\n",
              "</style>\n",
              "\n",
              "  <script>\n",
              "    async function quickchart(key) {\n",
              "      const quickchartButtonEl =\n",
              "        document.querySelector('#' + key + ' button');\n",
              "      quickchartButtonEl.disabled = true;  // To prevent multiple clicks.\n",
              "      quickchartButtonEl.classList.add('colab-df-spinner');\n",
              "      try {\n",
              "        const charts = await google.colab.kernel.invokeFunction(\n",
              "            'suggestCharts', [key], {});\n",
              "      } catch (error) {\n",
              "        console.error('Error during call to suggestCharts:', error);\n",
              "      }\n",
              "      quickchartButtonEl.classList.remove('colab-df-spinner');\n",
              "      quickchartButtonEl.classList.add('colab-df-quickchart-complete');\n",
              "    }\n",
              "    (() => {\n",
              "      let quickchartButtonEl =\n",
              "        document.querySelector('#df-8600089f-4caf-4b68-be6e-44da0a02af8c button');\n",
              "      quickchartButtonEl.style.display =\n",
              "        google.colab.kernel.accessAllowed ? 'block' : 'none';\n",
              "    })();\n",
              "  </script>\n",
              "</div>\n",
              "    </div>\n",
              "  </div>\n"
            ]
          },
          "metadata": {},
          "execution_count": 111
        }
      ]
    },
    {
      "cell_type": "code",
      "source": [
        "#cleaning training data\n",
        "text_tamil, y_train_tamil = train_tamil['TEXT DATA'] , train_tamil['LABELS']\n",
        "spec_chars = [\"!\",'\"',\"#\",\"%\",\"&amp\",\"'\",\"(\",\")\",\n",
        "              \"*\",\"+\",\",\",\"-\",\".\",\"/\",\":\",\";\",\"<\",\n",
        "              \"=\",\">\",\"?\",\"@\",\"[\",\"\\\\\",\"]\",\"^\",\"_\",\n",
        "              \"`\",\"{\",\"|\",\"}\",\"~\",\"–\", \"\\n\"]\n",
        "for char in spec_chars:\n",
        "  train_tamil[\"TEXT DATA\"] = train_tamil[\"TEXT DATA\"].str.replace(char, ' ')\n",
        "train_tamil.head()"
      ],
      "metadata": {
        "colab": {
          "base_uri": "https://localhost:8080/",
          "height": 261
        },
        "id": "jL3d6IvRwCjL",
        "outputId": "e4760cf1-b0ff-4f4a-df3f-1b8f8108498f"
      },
      "execution_count": null,
      "outputs": [
        {
          "output_type": "stream",
          "name": "stderr",
          "text": [
            "<ipython-input-112-6c3810277aff>:8: FutureWarning: The default value of regex will change from True to False in a future version. In addition, single character regular expressions will *not* be treated as literal strings when regex=True.\n",
            "  train_tamil[\"TEXT DATA\"] = train_tamil[\"TEXT DATA\"].str.replace(char, ' ')\n"
          ]
        },
        {
          "output_type": "execute_result",
          "data": {
            "text/plain": [
              "                                           TEXT DATA        LABELS\n",
              "0                                          Appa nice  Non stressed\n",
              "1  முததுன மூஞ்சி வரவு மட்டும் சொல்றியே செலவு கணகக...  Non stressed\n",
              "2                    இல்ல பா கஜானா தான் ரொம்ப பெருசு  Non stressed\n",
              "3  என்னன்ன சொல்றான் பாருங்க     கம்பி கட்ற கதையெல...  Non stressed\n",
              "4  முழு கதைக்கு அந்த கதைநாயகிதான் தேவை  இந்த காட்...  Non stressed"
            ],
            "text/html": [
              "\n",
              "  <div id=\"df-8a5a50dd-eb87-4cd9-9d8e-03a130c9093a\" class=\"colab-df-container\">\n",
              "    <div>\n",
              "<style scoped>\n",
              "    .dataframe tbody tr th:only-of-type {\n",
              "        vertical-align: middle;\n",
              "    }\n",
              "\n",
              "    .dataframe tbody tr th {\n",
              "        vertical-align: top;\n",
              "    }\n",
              "\n",
              "    .dataframe thead th {\n",
              "        text-align: right;\n",
              "    }\n",
              "</style>\n",
              "<table border=\"1\" class=\"dataframe\">\n",
              "  <thead>\n",
              "    <tr style=\"text-align: right;\">\n",
              "      <th></th>\n",
              "      <th>TEXT DATA</th>\n",
              "      <th>LABELS</th>\n",
              "    </tr>\n",
              "  </thead>\n",
              "  <tbody>\n",
              "    <tr>\n",
              "      <th>0</th>\n",
              "      <td>Appa nice</td>\n",
              "      <td>Non stressed</td>\n",
              "    </tr>\n",
              "    <tr>\n",
              "      <th>1</th>\n",
              "      <td>முததுன மூஞ்சி வரவு மட்டும் சொல்றியே செலவு கணகக...</td>\n",
              "      <td>Non stressed</td>\n",
              "    </tr>\n",
              "    <tr>\n",
              "      <th>2</th>\n",
              "      <td>இல்ல பா கஜானா தான் ரொம்ப பெருசு</td>\n",
              "      <td>Non stressed</td>\n",
              "    </tr>\n",
              "    <tr>\n",
              "      <th>3</th>\n",
              "      <td>என்னன்ன சொல்றான் பாருங்க     கம்பி கட்ற கதையெல...</td>\n",
              "      <td>Non stressed</td>\n",
              "    </tr>\n",
              "    <tr>\n",
              "      <th>4</th>\n",
              "      <td>முழு கதைக்கு அந்த கதைநாயகிதான் தேவை  இந்த காட்...</td>\n",
              "      <td>Non stressed</td>\n",
              "    </tr>\n",
              "  </tbody>\n",
              "</table>\n",
              "</div>\n",
              "    <div class=\"colab-df-buttons\">\n",
              "\n",
              "  <div class=\"colab-df-container\">\n",
              "    <button class=\"colab-df-convert\" onclick=\"convertToInteractive('df-8a5a50dd-eb87-4cd9-9d8e-03a130c9093a')\"\n",
              "            title=\"Convert this dataframe to an interactive table.\"\n",
              "            style=\"display:none;\">\n",
              "\n",
              "  <svg xmlns=\"http://www.w3.org/2000/svg\" height=\"24px\" viewBox=\"0 -960 960 960\">\n",
              "    <path d=\"M120-120v-720h720v720H120Zm60-500h600v-160H180v160Zm220 220h160v-160H400v160Zm0 220h160v-160H400v160ZM180-400h160v-160H180v160Zm440 0h160v-160H620v160ZM180-180h160v-160H180v160Zm440 0h160v-160H620v160Z\"/>\n",
              "  </svg>\n",
              "    </button>\n",
              "\n",
              "  <style>\n",
              "    .colab-df-container {\n",
              "      display:flex;\n",
              "      gap: 12px;\n",
              "    }\n",
              "\n",
              "    .colab-df-convert {\n",
              "      background-color: #E8F0FE;\n",
              "      border: none;\n",
              "      border-radius: 50%;\n",
              "      cursor: pointer;\n",
              "      display: none;\n",
              "      fill: #1967D2;\n",
              "      height: 32px;\n",
              "      padding: 0 0 0 0;\n",
              "      width: 32px;\n",
              "    }\n",
              "\n",
              "    .colab-df-convert:hover {\n",
              "      background-color: #E2EBFA;\n",
              "      box-shadow: 0px 1px 2px rgba(60, 64, 67, 0.3), 0px 1px 3px 1px rgba(60, 64, 67, 0.15);\n",
              "      fill: #174EA6;\n",
              "    }\n",
              "\n",
              "    .colab-df-buttons div {\n",
              "      margin-bottom: 4px;\n",
              "    }\n",
              "\n",
              "    [theme=dark] .colab-df-convert {\n",
              "      background-color: #3B4455;\n",
              "      fill: #D2E3FC;\n",
              "    }\n",
              "\n",
              "    [theme=dark] .colab-df-convert:hover {\n",
              "      background-color: #434B5C;\n",
              "      box-shadow: 0px 1px 3px 1px rgba(0, 0, 0, 0.15);\n",
              "      filter: drop-shadow(0px 1px 2px rgba(0, 0, 0, 0.3));\n",
              "      fill: #FFFFFF;\n",
              "    }\n",
              "  </style>\n",
              "\n",
              "    <script>\n",
              "      const buttonEl =\n",
              "        document.querySelector('#df-8a5a50dd-eb87-4cd9-9d8e-03a130c9093a button.colab-df-convert');\n",
              "      buttonEl.style.display =\n",
              "        google.colab.kernel.accessAllowed ? 'block' : 'none';\n",
              "\n",
              "      async function convertToInteractive(key) {\n",
              "        const element = document.querySelector('#df-8a5a50dd-eb87-4cd9-9d8e-03a130c9093a');\n",
              "        const dataTable =\n",
              "          await google.colab.kernel.invokeFunction('convertToInteractive',\n",
              "                                                    [key], {});\n",
              "        if (!dataTable) return;\n",
              "\n",
              "        const docLinkHtml = 'Like what you see? Visit the ' +\n",
              "          '<a target=\"_blank\" href=https://colab.research.google.com/notebooks/data_table.ipynb>data table notebook</a>'\n",
              "          + ' to learn more about interactive tables.';\n",
              "        element.innerHTML = '';\n",
              "        dataTable['output_type'] = 'display_data';\n",
              "        await google.colab.output.renderOutput(dataTable, element);\n",
              "        const docLink = document.createElement('div');\n",
              "        docLink.innerHTML = docLinkHtml;\n",
              "        element.appendChild(docLink);\n",
              "      }\n",
              "    </script>\n",
              "  </div>\n",
              "\n",
              "\n",
              "<div id=\"df-74722afb-42c4-4435-af30-01b9c92c1a8f\">\n",
              "  <button class=\"colab-df-quickchart\" onclick=\"quickchart('df-74722afb-42c4-4435-af30-01b9c92c1a8f')\"\n",
              "            title=\"Suggest charts\"\n",
              "            style=\"display:none;\">\n",
              "\n",
              "<svg xmlns=\"http://www.w3.org/2000/svg\" height=\"24px\"viewBox=\"0 0 24 24\"\n",
              "     width=\"24px\">\n",
              "    <g>\n",
              "        <path d=\"M19 3H5c-1.1 0-2 .9-2 2v14c0 1.1.9 2 2 2h14c1.1 0 2-.9 2-2V5c0-1.1-.9-2-2-2zM9 17H7v-7h2v7zm4 0h-2V7h2v10zm4 0h-2v-4h2v4z\"/>\n",
              "    </g>\n",
              "</svg>\n",
              "  </button>\n",
              "\n",
              "<style>\n",
              "  .colab-df-quickchart {\n",
              "      --bg-color: #E8F0FE;\n",
              "      --fill-color: #1967D2;\n",
              "      --hover-bg-color: #E2EBFA;\n",
              "      --hover-fill-color: #174EA6;\n",
              "      --disabled-fill-color: #AAA;\n",
              "      --disabled-bg-color: #DDD;\n",
              "  }\n",
              "\n",
              "  [theme=dark] .colab-df-quickchart {\n",
              "      --bg-color: #3B4455;\n",
              "      --fill-color: #D2E3FC;\n",
              "      --hover-bg-color: #434B5C;\n",
              "      --hover-fill-color: #FFFFFF;\n",
              "      --disabled-bg-color: #3B4455;\n",
              "      --disabled-fill-color: #666;\n",
              "  }\n",
              "\n",
              "  .colab-df-quickchart {\n",
              "    background-color: var(--bg-color);\n",
              "    border: none;\n",
              "    border-radius: 50%;\n",
              "    cursor: pointer;\n",
              "    display: none;\n",
              "    fill: var(--fill-color);\n",
              "    height: 32px;\n",
              "    padding: 0;\n",
              "    width: 32px;\n",
              "  }\n",
              "\n",
              "  .colab-df-quickchart:hover {\n",
              "    background-color: var(--hover-bg-color);\n",
              "    box-shadow: 0 1px 2px rgba(60, 64, 67, 0.3), 0 1px 3px 1px rgba(60, 64, 67, 0.15);\n",
              "    fill: var(--button-hover-fill-color);\n",
              "  }\n",
              "\n",
              "  .colab-df-quickchart-complete:disabled,\n",
              "  .colab-df-quickchart-complete:disabled:hover {\n",
              "    background-color: var(--disabled-bg-color);\n",
              "    fill: var(--disabled-fill-color);\n",
              "    box-shadow: none;\n",
              "  }\n",
              "\n",
              "  .colab-df-spinner {\n",
              "    border: 2px solid var(--fill-color);\n",
              "    border-color: transparent;\n",
              "    border-bottom-color: var(--fill-color);\n",
              "    animation:\n",
              "      spin 1s steps(1) infinite;\n",
              "  }\n",
              "\n",
              "  @keyframes spin {\n",
              "    0% {\n",
              "      border-color: transparent;\n",
              "      border-bottom-color: var(--fill-color);\n",
              "      border-left-color: var(--fill-color);\n",
              "    }\n",
              "    20% {\n",
              "      border-color: transparent;\n",
              "      border-left-color: var(--fill-color);\n",
              "      border-top-color: var(--fill-color);\n",
              "    }\n",
              "    30% {\n",
              "      border-color: transparent;\n",
              "      border-left-color: var(--fill-color);\n",
              "      border-top-color: var(--fill-color);\n",
              "      border-right-color: var(--fill-color);\n",
              "    }\n",
              "    40% {\n",
              "      border-color: transparent;\n",
              "      border-right-color: var(--fill-color);\n",
              "      border-top-color: var(--fill-color);\n",
              "    }\n",
              "    60% {\n",
              "      border-color: transparent;\n",
              "      border-right-color: var(--fill-color);\n",
              "    }\n",
              "    80% {\n",
              "      border-color: transparent;\n",
              "      border-right-color: var(--fill-color);\n",
              "      border-bottom-color: var(--fill-color);\n",
              "    }\n",
              "    90% {\n",
              "      border-color: transparent;\n",
              "      border-bottom-color: var(--fill-color);\n",
              "    }\n",
              "  }\n",
              "</style>\n",
              "\n",
              "  <script>\n",
              "    async function quickchart(key) {\n",
              "      const quickchartButtonEl =\n",
              "        document.querySelector('#' + key + ' button');\n",
              "      quickchartButtonEl.disabled = true;  // To prevent multiple clicks.\n",
              "      quickchartButtonEl.classList.add('colab-df-spinner');\n",
              "      try {\n",
              "        const charts = await google.colab.kernel.invokeFunction(\n",
              "            'suggestCharts', [key], {});\n",
              "      } catch (error) {\n",
              "        console.error('Error during call to suggestCharts:', error);\n",
              "      }\n",
              "      quickchartButtonEl.classList.remove('colab-df-spinner');\n",
              "      quickchartButtonEl.classList.add('colab-df-quickchart-complete');\n",
              "    }\n",
              "    (() => {\n",
              "      let quickchartButtonEl =\n",
              "        document.querySelector('#df-74722afb-42c4-4435-af30-01b9c92c1a8f button');\n",
              "      quickchartButtonEl.style.display =\n",
              "        google.colab.kernel.accessAllowed ? 'block' : 'none';\n",
              "    })();\n",
              "  </script>\n",
              "</div>\n",
              "    </div>\n",
              "  </div>\n"
            ]
          },
          "metadata": {},
          "execution_count": 112
        }
      ]
    },
    {
      "cell_type": "code",
      "source": [
        "#number of labels\n",
        "text_tamil, y_train_tamil = train_tamil['TEXT DATA'] , train_tamil['LABELS']\n",
        "list_text_tamil = []\n",
        "for line in text_tamil:\n",
        "  list_text_tamil.append(line)\n",
        "y_train_tamil.value_counts()"
      ],
      "metadata": {
        "colab": {
          "base_uri": "https://localhost:8080/"
        },
        "id": "k4rjqjTexTrn",
        "outputId": "6db8a41a-8787-4b8d-daf4-7336b7785b98"
      },
      "execution_count": null,
      "outputs": [
        {
          "output_type": "execute_result",
          "data": {
            "text/plain": [
              "Non stressed    3720\n",
              "stressed        1784\n",
              "Name: LABELS, dtype: int64"
            ]
          },
          "metadata": {},
          "execution_count": 113
        }
      ]
    },
    {
      "cell_type": "code",
      "source": [
        "#vectorization of training data\n",
        "from sklearn.feature_extraction.text import TfidfVectorizer\n",
        "import numpy\n",
        "Vectorizer = TfidfVectorizer(analyzer = 'char' , ngram_range=(1,3))\n",
        "x_train_tamil = Vectorizer.fit_transform(list_text_tamil)\n",
        "feature_name_tamil = Vectorizer.get_feature_names_out()\n",
        "print(feature_name_tamil[:10])\n",
        "print(x_train_tamil.toarray())"
      ],
      "metadata": {
        "colab": {
          "base_uri": "https://localhost:8080/"
        },
        "id": "uQHRWUUezC2U",
        "outputId": "007f9032-f9ac-4f26-8874-e8e9290c65d8"
      },
      "execution_count": null,
      "outputs": [
        {
          "output_type": "stream",
          "name": "stdout",
          "text": [
            "[' ' ' $' ' $1' ' $2' ' $3' ' $4' ' $5' ' $8' ' &' ' & ']\n",
            "[[0.06319962 0.         0.         ... 0.         0.         0.        ]\n",
            " [0.17667136 0.         0.         ... 0.         0.         0.        ]\n",
            " [0.14476458 0.         0.         ... 0.         0.         0.        ]\n",
            " ...\n",
            " [0.21665051 0.         0.         ... 0.         0.         0.        ]\n",
            " [0.25541824 0.         0.         ... 0.         0.         0.        ]\n",
            " [0.2542836  0.         0.         ... 0.         0.         0.        ]]\n"
          ]
        }
      ]
    },
    {
      "cell_type": "code",
      "source": [
        "#importing statements\n",
        "from sklearn.model_selection import train_test_split\n",
        "from sklearn.svm import SVC\n",
        "from sklearn.metrics import accuracy_score, classification_report\n"
      ],
      "metadata": {
        "id": "fi5jUCg7Ul_D"
      },
      "execution_count": null,
      "outputs": []
    },
    {
      "cell_type": "code",
      "source": [
        "#extracting development data\n",
        "dev_tamil = pd.read_csv('/content/drive/MyDrive/Colab Notebooks/TAMIL_DEVELOPMENT_DATA.csv')\n",
        "Y_dev_tamil = dev_tamil['LABELS']\n",
        "X_dev_tamil = dev_tamil['TEXT DATA']\n",
        "#cleaning development data\n",
        "spec_chars = [\"!\",'\"',\"#\",\"%\",\"&amp\",\"'\",\"(\",\")\",\n",
        "              \"*\",\"+\",\",\",\"-\",\".\",\"/\",\":\",\";\",\"<\",\n",
        "              \"=\",\">\",\"?\",\"@\",\"[\",\"\\\\\",\"]\",\"^\",\"_\",\n",
        "              \"`\",\"{\",\"|\",\"}\",\"~\",\"–\", \"\\n\"]\n",
        "for char in spec_chars:\n",
        "  X_dev_tamil = X_dev_tamil.str.replace(char, ' ')\n",
        "\n",
        "xdev_list_tamil = []\n",
        "for line in X_dev_tamil:\n",
        "  xdev_list_tamil.append(line)\n",
        "X_dev_tamil = Vectorizer.transform(xdev_list_tamil)"
      ],
      "metadata": {
        "id": "ZgPoeKuqStVJ",
        "colab": {
          "base_uri": "https://localhost:8080/"
        },
        "outputId": "0ef63d53-c788-4d30-c507-ca694f977cc4"
      },
      "execution_count": null,
      "outputs": [
        {
          "output_type": "stream",
          "name": "stderr",
          "text": [
            "<ipython-input-116-78e5f23c4aeb>:11: FutureWarning: The default value of regex will change from True to False in a future version. In addition, single character regular expressions will *not* be treated as literal strings when regex=True.\n",
            "  X_dev_tamil = X_dev_tamil.str.replace(char, ' ')\n"
          ]
        }
      ]
    },
    {
      "cell_type": "markdown",
      "source": [
        "### **SVM MODEL**"
      ],
      "metadata": {
        "id": "0ka7JmjVULBJ"
      }
    },
    {
      "cell_type": "code",
      "source": [
        "#accuracy of SVC model\n",
        "from sklearn.svm import SVC\n",
        "from sklearn.metrics import accuracy_score, classification_report\n",
        "svm_classifier = SVC(kernel='linear', C=1.0)\n",
        "svm_classifier.fit(x_train_tamil, y_train_tamil)\n",
        "y_pred_tamilsvm = svm_classifier.predict(X_dev_tamil)\n",
        "accuracy_tamilsvm = accuracy_score(Y_dev_tamil, y_pred_tamilsvm)\n",
        "classification_rep_tamilsvm = classification_report(Y_dev_tamil, y_pred_tamilsvm)\n",
        "print(f\"Accuracy: {accuracy_tamilsvm}\")\n",
        "print(\"\\nClassification Report:\")\n",
        "print(classification_rep_tamilsvm)"
      ],
      "metadata": {
        "colab": {
          "base_uri": "https://localhost:8080/"
        },
        "id": "nC-Ey37oQWsA",
        "outputId": "3cf334ca-9507-424f-a1e9-5dc4bd9434eb"
      },
      "execution_count": null,
      "outputs": [
        {
          "output_type": "stream",
          "name": "stdout",
          "text": [
            "Accuracy: 0.9985486211901307\n",
            "\n",
            "Classification Report:\n",
            "              precision    recall  f1-score   support\n",
            "\n",
            "Non stressed       1.00      1.00      1.00       939\n",
            "    stressed       1.00      1.00      1.00       439\n",
            "\n",
            "    accuracy                           1.00      1378\n",
            "   macro avg       1.00      1.00      1.00      1378\n",
            "weighted avg       1.00      1.00      1.00      1378\n",
            "\n"
          ]
        }
      ]
    },
    {
      "cell_type": "code",
      "source": [
        "#extracting,cleaning,vectorising test data\n",
        "test_tamil = pd.read_csv('/content/drive/MyDrive/Colab Notebooks/full_tamil_data_test.csv')\n",
        "test_tamil_2=pd.read_csv('/content/drive/MyDrive/Colab Notebooks/full_tamil_data_test.csv')\n",
        "test_tamil_3=pd.read_csv('/content/drive/MyDrive/Colab Notebooks/full_tamil_data_test.csv')\n",
        "X_testing_tamil = test_tamil['Text data']\n",
        "spec_chars = [\"!\",'\"',\"#\",\"%\",\"&amp\",\"'\",\"(\",\")\",\n",
        "              \"*\",\"+\",\",\",\"-\",\".\",\"/\",\":\",\";\",\"<\",\n",
        "              \"=\",\">\",\"?\",\"@\",\"[\",\"\\\\\",\"]\",\"^\",\"_\",\n",
        "              \"`\",\"{\",\"|\",\"}\",\"~\",\"–\", \"\\n\"]\n",
        "for char in spec_chars:\n",
        "  X_testing_tamil = X_testing_tamil.str.replace(char, ' ')\n",
        "\n",
        "xtest_list_tamil = []\n",
        "for line in X_testing_tamil:\n",
        "  xtest_list_tamil.append(line)\n",
        "X_testing_tamil = Vectorizer.transform(xtest_list_tamil)"
      ],
      "metadata": {
        "id": "UG3xfx-AyVb0",
        "colab": {
          "base_uri": "https://localhost:8080/"
        },
        "outputId": "df447107-e497-4cf8-a4a8-bb440710e11a"
      },
      "execution_count": null,
      "outputs": [
        {
          "output_type": "stream",
          "name": "stderr",
          "text": [
            "<ipython-input-118-67ab3cca7f3d>:11: FutureWarning: The default value of regex will change from True to False in a future version. In addition, single character regular expressions will *not* be treated as literal strings when regex=True.\n",
            "  X_testing_tamil = X_testing_tamil.str.replace(char, ' ')\n"
          ]
        }
      ]
    },
    {
      "cell_type": "code",
      "source": [
        "# SVM PREDICTION USING TEST DATA TAMIL\n",
        "svm_classifier.fit(x_train_tamil, y_train_tamil)\n",
        "y_pred_tamilsvm_test1 = svm_classifier.predict(X_testing_tamil)\n",
        "test_tamil['class_label'] = list(y_pred_tamilsvm_test1)\n",
        "test_tamil_main = pd.DataFrame()\n",
        "test_tamil_main['pid'] = test_tamil['PID']\n",
        "test_tamil_main['class_label'] = test_tamil['class_label']\n",
        "test_tamil.head()\n",
        "test_tamil_main.to_csv(r'/content/drive/MyDrive/Colab Notebooks/Wit_HUB_StressIdent_LT-EDI@EACL2024_run1.csv', index = False)\n"
      ],
      "metadata": {
        "id": "DyWLK6nM0W3E"
      },
      "execution_count": null,
      "outputs": []
    },
    {
      "cell_type": "markdown",
      "source": [
        "**NAIVE BAYES MODEL**"
      ],
      "metadata": {
        "id": "pH0SGac5UX52"
      }
    },
    {
      "cell_type": "code",
      "source": [
        "#accuracy of gaussian model\n",
        "from sklearn.naive_bayes import GaussianNB\n",
        "gnb=GaussianNB()\n",
        "x_train_tamil_arr=x_train_tamil.toarray()\n",
        "gnb.fit(x_train_tamil_arr,y_train_tamil)\n",
        "y_pred_tamil_gauss=gnb.predict(X_dev_tamil.toarray())\n",
        "accuracy_tamil_gauss = accuracy_score(Y_dev_tamil, y_pred_tamil_gauss)\n",
        "classification_rep_tamil_gauss = classification_report(Y_dev_tamil, y_pred_tamil_gauss)\n",
        "print(f\"Accuracy: {accuracy_tamil_gauss}\")\n",
        "print(\"\\nClassification Report:\")\n",
        "print(classification_rep_tamil_gauss)"
      ],
      "metadata": {
        "id": "22mYNjnD0ksO",
        "outputId": "46e201ed-fc0c-44bf-bcb4-b383b42bcf38",
        "colab": {
          "base_uri": "https://localhost:8080/"
        }
      },
      "execution_count": null,
      "outputs": [
        {
          "output_type": "stream",
          "name": "stdout",
          "text": [
            "Accuracy: 0.9332365747460087\n",
            "\n",
            "Classification Report:\n",
            "              precision    recall  f1-score   support\n",
            "\n",
            "Non stressed       1.00      0.90      0.95       939\n",
            "    stressed       0.83      1.00      0.91       439\n",
            "\n",
            "    accuracy                           0.93      1378\n",
            "   macro avg       0.91      0.95      0.93      1378\n",
            "weighted avg       0.94      0.93      0.93      1378\n",
            "\n"
          ]
        }
      ]
    },
    {
      "cell_type": "code",
      "source": [
        "y_pred_tamil_gauss_1=gnb.predict(X_testing_tamil.toarray())\n",
        "test_tamil_2['class_label'] = list(y_pred_tamil_gauss_1)\n",
        "test_tamil_main_2 = pd.DataFrame()\n",
        "test_tamil_main_2['pid'] = test_tamil_2['PID']\n",
        "test_tamil_main_2['class_label'] = test_tamil_2['class_label']\n",
        "test_tamil_main_2.to_csv(r'/content/drive/MyDrive/Colab Notebooks/Wit_HUB_StressIdent_LT-EDI@EACL2024_run2.csv', index = False)\n",
        "\n",
        "\n"
      ],
      "metadata": {
        "id": "xW4Ur3uNUiRF"
      },
      "execution_count": null,
      "outputs": []
    },
    {
      "cell_type": "code",
      "source": [
        "from sklearn.ensemble import RandomForestClassifier\n",
        "classifier = RandomForestClassifier()\n",
        "classifier.fit(x_train_tamil, y_train_tamil)\n",
        "y_pred_tamil_rand= classifier.predict(X_dev_tamil)\n",
        "accuracy_tamil_rand = accuracy_score(Y_dev_tamil, y_pred_tamil_rand)\n",
        "classification_rep_tamil_rand = classification_report(Y_dev_tamil, y_pred_tamil_rand)\n",
        "print(f\"Accuracy: {accuracy_tamil_rand}\")\n",
        "print(\"\\nClassification Report:\")\n",
        "print(classification_rep_tamil_rand)"
      ],
      "metadata": {
        "id": "0tdW2mViJQNP",
        "colab": {
          "base_uri": "https://localhost:8080/"
        },
        "outputId": "4a75de1c-18d0-4cba-bc08-b6e7bc5bdb13"
      },
      "execution_count": null,
      "outputs": [
        {
          "output_type": "stream",
          "name": "stdout",
          "text": [
            "Accuracy: 0.9963715529753265\n",
            "\n",
            "Classification Report:\n",
            "              precision    recall  f1-score   support\n",
            "\n",
            "Non stressed       0.99      1.00      1.00       939\n",
            "    stressed       1.00      0.99      0.99       439\n",
            "\n",
            "    accuracy                           1.00      1378\n",
            "   macro avg       1.00      0.99      1.00      1378\n",
            "weighted avg       1.00      1.00      1.00      1378\n",
            "\n"
          ]
        }
      ]
    },
    {
      "cell_type": "code",
      "source": [
        "y_pred_tamil_rand_1= classifier.predict(X_testing_tamil)\n",
        "test_tamil_3['class_label'] = list(y_pred_tamil_rand_1)\n",
        "test_tamil_main_3 = pd.DataFrame()\n",
        "test_tamil_main_3['pid'] = test_tamil_3['PID']\n",
        "test_tamil_main_3['class_label'] = test_tamil_3['class_label']\n",
        "test_tamil_main_3.to_csv(r'/content/drive/MyDrive/Colab Notebooks/Wit_HUB_StressIdent_LT-EDI@EACL2024_run3.csv', index = False)\n",
        "\n",
        "\n"
      ],
      "metadata": {
        "id": "IdMdQW-1Wb5c"
      },
      "execution_count": null,
      "outputs": []
    }
  ]
}